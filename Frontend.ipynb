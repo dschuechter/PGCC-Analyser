{
 "cells": [
  {
   "cell_type": "markdown",
   "metadata": {},
   "source": [
    "# PGCC-Analyser: Frontend"
   ]
  },
  {
   "cell_type": "markdown",
   "metadata": {},
   "source": [
    "You can set different parameters to restrict the dataset and/or the analysis.\n",
    "\n",
    "The following parameters are requiered for the analyser():\n",
    "* name (str): Name of the selection. It will also be the folder and file name of the output data\n",
    "* lon_lim_min (int/float): Limit the minimum longitude\n",
    "* lon_lim_max (int/float): Limit the maximum longitude\n",
    "* lat_lim_min (int/float): Limit the minimum latitude\n",
    "* lat_lim_max (int/float): Limit the maximum latitude\n",
    "* inverted (bool): Invert the selection\n",
    "![](./modules/documentation_figures/invert_example.png)\n",
    "* lon_steps (int): Set the number of latitude slices \n",
    "* lat_steps (int): Set the number of longitude slices\n",
    "* filter_option (str/array): Set a filter option (\"LMC\",\"SMC\", \"orion_nebula\", \"orion_super_bubble\", \"all\")\n",
    "* show_figure (bool): Should figures be shown\n",
    "* debugging (bool): Show debugging figures and printouts\n",
    "* dist (float/bool): Set the maximum distance for a PGCC neighborhood. Set it to 'False' to skip the neighborhood-analysis"
   ]
  },
  {
   "cell_type": "code",
   "execution_count": 1,
   "metadata": {
    "hide_input": true,
    "scrolled": false
   },
   "outputs": [
    {
     "data": {
      "text/html": [
       "\n",
       "        <script>\n",
       "            function code_toggle_14247791773493949515() {\n",
       "                $('div.cell.code_cell.rendered.selected').find('div.input').toggle();\n",
       "            }\n",
       "\n",
       "            \n",
       "        </script>\n",
       "        <a href=\"javascript:code_toggle_14247791773493949515()\">Toggle to show/hide some requiered code</a>\n",
       "    "
      ],
      "text/plain": [
       "<IPython.core.display.HTML object>"
      ]
     },
     "execution_count": 1,
     "metadata": {},
     "output_type": "execute_result"
    }
   ],
   "source": [
    "#Import all requiered libraries:\n",
    "from IPython.core.display import display, HTML\n",
    "#display(HTML(\"<style>.container { width:90% !important; }</style>\"))\n",
    "import random\n",
    "import numpy as np\n",
    "from astropy.io import fits\n",
    "from astropy.table import Table\n",
    "import matplotlib.pyplot as plt\n",
    "import healpy as hp\n",
    "from scipy import odr\n",
    "from scipy.optimize import curve_fit\n",
    "from scipy import stats\n",
    "import pandas as pd\n",
    "import sys\n",
    "import modules.data_import as data_import\n",
    "import modules.debugging as debugging\n",
    "import modules.functions as analyser_backend\n",
    "from modules.presets import import_preset as import_preset\n",
    "def analyser(name,lon_lim_min,lon_lim_max,lat_lim_min,lat_lim_max,inverted,lon_steps,lat_steps, filter_option,show_figure, debugging, dist):\n",
    "    return analyser_backend.sky_analyser(all_sky_Table,name,lon_lim_min,lon_lim_max,lat_lim_min,lat_lim_max,inverted,lon_steps,lat_steps, filter_option,show_figure, debugging, dist)\n",
    "\n",
    "def preset(name):\n",
    "    preset = import_preset(name)\n",
    "    if preset[0] != 0:\n",
    "        return analyser(preset[0],preset[1],preset[2],preset[3],preset[4],preset[5],preset[6],preset[7],preset[8],preset[9],preset[10],preset[11])\n",
    "    else:\n",
    "        print(\"Please enter a valid preset\")\n",
    "\n",
    "#Import needed data \n",
    "HI4PI,PLANCK_353, PLANCK_545, PLANCK_857, IRIS_3000, Dust_Temp_R1, Dust_Temp_R2, Dame, all_sky_Table = data_import.import_data()\n",
    "\n",
    "#Simple Script to hide some code. Credit: https://stackoverflow.com/a/52664156\n",
    "def hide_toggle(for_next=False):\n",
    "    this_cell = \"\"\"$('div.cell.code_cell.rendered.selected')\"\"\"\n",
    "    next_cell = this_cell + '.next()'\n",
    "    toggle_text = 'Toggle to show/hide some requiered code'\n",
    "    target_cell = this_cell\n",
    "    js_hide_current = ''\n",
    "    if for_next:\n",
    "        target_cell = next_cell\n",
    "        toggle_text += ' next cell'\n",
    "        js_hide_current = this_cell + '.find(\"div.input\").hide();'\n",
    "\n",
    "    js_f_name = 'code_toggle_{}'.format(str(random.randint(1,2**64)))\n",
    "    html = \"\"\"\n",
    "        <script>\n",
    "            function {f_name}() {{\n",
    "                {cell_selector}.find('div.input').toggle();\n",
    "            }}\n",
    "\n",
    "            {js_hide_current}\n",
    "        </script>\n",
    "        <a href=\"javascript:{f_name}()\">{toggle_text}</a>\n",
    "    \"\"\".format(\n",
    "        f_name=js_f_name,\n",
    "        cell_selector=target_cell,\n",
    "        js_hide_current=js_hide_current,\n",
    "        toggle_text=toggle_text\n",
    "    )\n",
    "    return HTML(html)\n",
    "hide_toggle()"
   ]
  },
  {
   "cell_type": "code",
   "execution_count": 4,
   "metadata": {
    "scrolled": true
   },
   "outputs": [],
   "source": [
    "orion_nebula=preset(\"orion_nebula\")"
   ]
  },
  {
   "cell_type": "code",
   "execution_count": 3,
   "metadata": {},
   "outputs": [],
   "source": [
    "# Example for analyser script\n",
    "# analyser(name=\"fullsky\",lon_lim_min=0,lon_lim_max=360,lat_lim_min=-90,lat_lim_max=90,\n",
    "#          inverted=False,lon_steps=0,lat_steps=10, filter_option=False,show_figure=True, \n",
    "#          debugging=True, dist=0.7)"
   ]
  },
  {
   "cell_type": "code",
   "execution_count": null,
   "metadata": {},
   "outputs": [],
   "source": []
  }
 ],
 "metadata": {
  "kernelspec": {
   "display_name": "Python 3",
   "language": "python",
   "name": "python3"
  },
  "language_info": {
   "codemirror_mode": {
    "name": "ipython",
    "version": 3
   },
   "file_extension": ".py",
   "mimetype": "text/x-python",
   "name": "python",
   "nbconvert_exporter": "python",
   "pygments_lexer": "ipython3",
   "version": "3.8.5"
  }
 },
 "nbformat": 4,
 "nbformat_minor": 4
}
